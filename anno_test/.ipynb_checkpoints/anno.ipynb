{
 "cells": [
  {
   "cell_type": "code",
   "execution_count": 1,
   "metadata": {},
   "outputs": [],
   "source": [
    "\n",
    "import cv2\n",
    "\n",
    "image_path = 'anno'\n",
    "\n",
    "image = cv2.imread(image_path + '.png')\n",
    "\n",
    "class_list = ['using mask', 'without mask']\n",
    "colors = [(0, 255, 0), (0, 255, 255)]\n",
    "\n",
    "height, width, _ = image.shape\n",
    "\n",
    "T=[]\n",
    "with open(image_path + '.txt', \"r\") as file1:\n",
    "    for line in file1.readlines():\n",
    "        split = line.split(\" \")\n",
    "\n",
    "        # getting the class id\n",
    "        class_id = int(split[0])\n",
    "        color = colors[class_id]\n",
    "        clazz = class_list[class_id]\n",
    "        # print(class_id, color, clazz)\n",
    "\n",
    "        # getting the xywh bounding box coordinates\n",
    "        x, y, w, h = float(split[1]), float(split[2]), float(split[3]), float(split[4])\n",
    "        # print(x, y, w, h)\n",
    "\n",
    "        # re-scaling xywh to the image size\n",
    "        box = [int((x - 0.5*w)* width), int((y - 0.5*h) * height), int(w*width), int(h*height)]\n",
    "        # print(box)\n",
    "        cv2.rectangle(image, box, color, 2)\n",
    "        cv2.rectangle(image, (box[0], box[1] - 20), (box[0] + box[2], box[1]), color, -1)\n",
    "        # cv2.putText(image, class_list[class_id], (box[0], box[1] - 5), cv2.FONT_HERSHEY_SIMPLEX, .5, (0,0,0))\n",
    "\n",
    "cv2.imshow(\"output\", image)\n",
    "cv2.waitKey()"
   ]
  }
 ],
 "metadata": {
  "interpreter": {
   "hash": "a78333d3dd35bd397fd7eb280cbf985f60e7755d34dc1d4875ecc7c028eccb3a"
  },
  "kernelspec": {
   "display_name": "Python 3.9.7 ('base')",
   "language": "python",
   "name": "python3"
  },
  "language_info": {
   "codemirror_mode": {
    "name": "ipython",
    "version": 3
   },
   "file_extension": ".py",
   "mimetype": "text/x-python",
   "name": "python",
   "nbconvert_exporter": "python",
   "pygments_lexer": "ipython3",
   "version": "3.9.7"
  },
  "orig_nbformat": 4
 },
 "nbformat": 4,
 "nbformat_minor": 2
}
